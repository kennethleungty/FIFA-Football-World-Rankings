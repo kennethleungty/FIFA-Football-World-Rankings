{
 "cells": [
  {
   "cell_type": "markdown",
   "id": "ad54925d",
   "metadata": {},
   "source": [
    "# FIFA World Rankings\n",
    "## Part 2 - Add Country Data\n",
    "___"
   ]
  },
  {
   "cell_type": "code",
   "execution_count": 19,
   "id": "8764c521",
   "metadata": {},
   "outputs": [],
   "source": [
    "# Import necessary dependencies\n",
    "import re\n",
    "import time\n",
    "import pandas as pd\n",
    "import json\n",
    "from datetime import datetime, date, timedelta\n",
    "import numpy as np\n",
    "from datetime import datetime as dt\n",
    "import validators\n",
    "import seaborn as sns"
   ]
  },
  {
   "cell_type": "markdown",
   "id": "a214a5da",
   "metadata": {},
   "source": [
    "### Get country flag images\n",
    "Source: https://data.world/pbi/country-flag-database-from-wikipedia"
   ]
  },
  {
   "cell_type": "code",
   "execution_count": 2,
   "id": "a2ca4b72",
   "metadata": {
    "scrolled": false
   },
   "outputs": [
    {
     "data": {
      "text/html": [
       "<div>\n",
       "<style scoped>\n",
       "    .dataframe tbody tr th:only-of-type {\n",
       "        vertical-align: middle;\n",
       "    }\n",
       "\n",
       "    .dataframe tbody tr th {\n",
       "        vertical-align: top;\n",
       "    }\n",
       "\n",
       "    .dataframe thead th {\n",
       "        text-align: right;\n",
       "    }\n",
       "</style>\n",
       "<table border=\"1\" class=\"dataframe\">\n",
       "  <thead>\n",
       "    <tr style=\"text-align: right;\">\n",
       "      <th></th>\n",
       "      <th>Country</th>\n",
       "      <th>ImageURL</th>\n",
       "    </tr>\n",
       "  </thead>\n",
       "  <tbody>\n",
       "    <tr>\n",
       "      <th>0</th>\n",
       "      <td>Afghanistan</td>\n",
       "      <td>https://upload.wikimedia.org/wikipedia/commons...</td>\n",
       "    </tr>\n",
       "    <tr>\n",
       "      <th>1</th>\n",
       "      <td>Albania</td>\n",
       "      <td>https://upload.wikimedia.org/wikipedia/commons...</td>\n",
       "    </tr>\n",
       "    <tr>\n",
       "      <th>2</th>\n",
       "      <td>Algeria</td>\n",
       "      <td>https://upload.wikimedia.org/wikipedia/commons...</td>\n",
       "    </tr>\n",
       "    <tr>\n",
       "      <th>3</th>\n",
       "      <td>Andorra</td>\n",
       "      <td>https://upload.wikimedia.org/wikipedia/commons...</td>\n",
       "    </tr>\n",
       "    <tr>\n",
       "      <th>4</th>\n",
       "      <td>Angola</td>\n",
       "      <td>https://upload.wikimedia.org/wikipedia/commons...</td>\n",
       "    </tr>\n",
       "  </tbody>\n",
       "</table>\n",
       "</div>"
      ],
      "text/plain": [
       "       Country                                           ImageURL\n",
       "0  Afghanistan  https://upload.wikimedia.org/wikipedia/commons...\n",
       "1      Albania  https://upload.wikimedia.org/wikipedia/commons...\n",
       "2      Algeria  https://upload.wikimedia.org/wikipedia/commons...\n",
       "3      Andorra  https://upload.wikimedia.org/wikipedia/commons...\n",
       "4       Angola  https://upload.wikimedia.org/wikipedia/commons..."
      ]
     },
     "execution_count": 2,
     "metadata": {},
     "output_type": "execute_result"
    }
   ],
   "source": [
    "country_flags = pd.read_excel('./data/country_flags_dataset.xlsx')\n",
    "country_flags.head()"
   ]
  },
  {
   "cell_type": "code",
   "execution_count": 3,
   "id": "3e2e78fd",
   "metadata": {},
   "outputs": [],
   "source": [
    "# Import master dataframe\n",
    "master_df = pd.read_csv('./data/FIFA_World_Rankings_Extracted_20210610.csv')\n",
    "\n",
    "# Rename countries of master dataframe\n",
    "master_df.replace('USA', 'United States', inplace=True)\n",
    "master_df.replace('Korea Republic', 'South Korea', inplace=True)\n",
    "master_df.replace('Korea DPR', 'North Korea', inplace=True)\n",
    "master_df.replace(\"Côte d'Ivoire\", 'Ivory Coast', inplace=True)\n",
    "master_df.replace('Congo DR', 'Democratic Republic of Congo', inplace=True)\n",
    "master_df.replace('Congo', 'Republic of Congo', inplace=True)\n",
    "master_df.replace('China PR', 'China', inplace=True)\n",
    "master_df.replace('IR Iran', 'Iran', inplace=True)"
   ]
  },
  {
   "cell_type": "code",
   "execution_count": 4,
   "id": "39be583a",
   "metadata": {},
   "outputs": [
    {
     "data": {
      "text/plain": [
       "array(['North Macedonia', 'Cabo Verde', 'Curaçao', 'Kyrgyz Republic',\n",
       "       'Faroe Islands', 'St. Kitts and Nevis', 'Eswatini',\n",
       "       'New Caledonia', 'Tahiti', 'St. Vincent and the Grenadines',\n",
       "       'Bermuda', 'St. Lucia', 'Puerto Rico', 'Montserrat',\n",
       "       'São Tomé and Príncipe', 'American Samoa', 'Cayman Islands',\n",
       "       'Gibraltar', 'Timor-Leste', 'Guam', 'Aruba',\n",
       "       'Turks and Caicos Islands', 'US Virgin Islands',\n",
       "       'British Virgin Islands', 'Anguilla', 'Curacao',\n",
       "       'Sao Tome e Principe', 'FYR Macedonia', 'St. Vincent / Grenadines',\n",
       "       'São Tomé e Príncipe', 'Netherlands Antilles',\n",
       "       'Serbia and Montenegro', 'Yugoslavia', 'Zaire', 'Czechoslovakia'],\n",
       "      dtype=object)"
      ]
     },
     "execution_count": 4,
     "metadata": {},
     "output_type": "execute_result"
    }
   ],
   "source": [
    "# Merge country flag URL with master dataframe\n",
    "master_df_flag = master_df.merge(country_flags, how = 'left', left_on='country', right_on='Country')\n",
    "\n",
    "# Drop extra Country column\n",
    "master_df_flag.drop(columns=['Country'], inplace=True)\n",
    "\n",
    "# List of countries without flag image\n",
    "master_df_flag[master_df_flag['ImageURL'].isnull()]['country'].unique()"
   ]
  },
  {
   "cell_type": "code",
   "execution_count": 5,
   "id": "1835dff7",
   "metadata": {},
   "outputs": [
    {
     "data": {
      "text/html": [
       "<div>\n",
       "<style scoped>\n",
       "    .dataframe tbody tr th:only-of-type {\n",
       "        vertical-align: middle;\n",
       "    }\n",
       "\n",
       "    .dataframe tbody tr th {\n",
       "        vertical-align: top;\n",
       "    }\n",
       "\n",
       "    .dataframe thead th {\n",
       "        text-align: right;\n",
       "    }\n",
       "</style>\n",
       "<table border=\"1\" class=\"dataframe\">\n",
       "  <thead>\n",
       "    <tr style=\"text-align: right;\">\n",
       "      <th></th>\n",
       "      <th>rank</th>\n",
       "      <th>country</th>\n",
       "      <th>points</th>\n",
       "      <th>date</th>\n",
       "      <th>ImageURL</th>\n",
       "    </tr>\n",
       "  </thead>\n",
       "  <tbody>\n",
       "    <tr>\n",
       "      <th>0</th>\n",
       "      <td>1</td>\n",
       "      <td>Belgium</td>\n",
       "      <td>1783.38</td>\n",
       "      <td>27 May 2021</td>\n",
       "      <td>https://upload.wikimedia.org/wikipedia/commons...</td>\n",
       "    </tr>\n",
       "    <tr>\n",
       "      <th>1</th>\n",
       "      <td>2</td>\n",
       "      <td>France</td>\n",
       "      <td>1757.30</td>\n",
       "      <td>27 May 2021</td>\n",
       "      <td>https://upload.wikimedia.org/wikipedia/en/c/c3...</td>\n",
       "    </tr>\n",
       "    <tr>\n",
       "      <th>2</th>\n",
       "      <td>3</td>\n",
       "      <td>Brazil</td>\n",
       "      <td>1742.65</td>\n",
       "      <td>27 May 2021</td>\n",
       "      <td>https://upload.wikimedia.org/wikipedia/en/0/05...</td>\n",
       "    </tr>\n",
       "    <tr>\n",
       "      <th>3</th>\n",
       "      <td>4</td>\n",
       "      <td>England</td>\n",
       "      <td>1686.78</td>\n",
       "      <td>27 May 2021</td>\n",
       "      <td>https://upload.wikimedia.org/wikipedia/commons...</td>\n",
       "    </tr>\n",
       "    <tr>\n",
       "      <th>4</th>\n",
       "      <td>5</td>\n",
       "      <td>Portugal</td>\n",
       "      <td>1666.12</td>\n",
       "      <td>27 May 2021</td>\n",
       "      <td>https://upload.wikimedia.org/wikipedia/commons...</td>\n",
       "    </tr>\n",
       "  </tbody>\n",
       "</table>\n",
       "</div>"
      ],
      "text/plain": [
       "   rank   country   points         date  \\\n",
       "0     1   Belgium  1783.38  27 May 2021   \n",
       "1     2    France  1757.30  27 May 2021   \n",
       "2     3    Brazil  1742.65  27 May 2021   \n",
       "3     4   England  1686.78  27 May 2021   \n",
       "4     5  Portugal  1666.12  27 May 2021   \n",
       "\n",
       "                                            ImageURL  \n",
       "0  https://upload.wikimedia.org/wikipedia/commons...  \n",
       "1  https://upload.wikimedia.org/wikipedia/en/c/c3...  \n",
       "2  https://upload.wikimedia.org/wikipedia/en/0/05...  \n",
       "3  https://upload.wikimedia.org/wikipedia/commons...  \n",
       "4  https://upload.wikimedia.org/wikipedia/commons...  "
      ]
     },
     "execution_count": 5,
     "metadata": {},
     "output_type": "execute_result"
    }
   ],
   "source": [
    "master_df_flag.head()"
   ]
  },
  {
   "cell_type": "markdown",
   "id": "47068991",
   "metadata": {},
   "source": [
    "___\n",
    "### Get country population"
   ]
  },
  {
   "cell_type": "code",
   "execution_count": 16,
   "id": "0e70f64f",
   "metadata": {},
   "outputs": [
    {
     "data": {
      "text/html": [
       "<div>\n",
       "<style scoped>\n",
       "    .dataframe tbody tr th:only-of-type {\n",
       "        vertical-align: middle;\n",
       "    }\n",
       "\n",
       "    .dataframe tbody tr th {\n",
       "        vertical-align: top;\n",
       "    }\n",
       "\n",
       "    .dataframe thead th {\n",
       "        text-align: right;\n",
       "    }\n",
       "</style>\n",
       "<table border=\"1\" class=\"dataframe\">\n",
       "  <thead>\n",
       "    <tr style=\"text-align: right;\">\n",
       "      <th></th>\n",
       "      <th>Country</th>\n",
       "      <th>Population</th>\n",
       "      <th>Yearly Change</th>\n",
       "      <th>Net Change</th>\n",
       "      <th>Density (P/KmÂ²)</th>\n",
       "      <th>Land Area (KmÂ²)</th>\n",
       "      <th>Migrants (net)</th>\n",
       "      <th>Fert. Rate</th>\n",
       "      <th>Med. Age</th>\n",
       "      <th>Urban Pop %</th>\n",
       "      <th>World Share</th>\n",
       "    </tr>\n",
       "  </thead>\n",
       "  <tbody>\n",
       "    <tr>\n",
       "      <th>0</th>\n",
       "      <td>China</td>\n",
       "      <td>1440297825</td>\n",
       "      <td>0.0039</td>\n",
       "      <td>5540090.0</td>\n",
       "      <td>153.0</td>\n",
       "      <td>9388211.0</td>\n",
       "      <td>-348399.0</td>\n",
       "      <td>1.7</td>\n",
       "      <td>38</td>\n",
       "      <td>0.61</td>\n",
       "      <td>0.1847</td>\n",
       "    </tr>\n",
       "    <tr>\n",
       "      <th>1</th>\n",
       "      <td>India</td>\n",
       "      <td>1382345085</td>\n",
       "      <td>0.0099</td>\n",
       "      <td>13586631.0</td>\n",
       "      <td>464.0</td>\n",
       "      <td>2973190.0</td>\n",
       "      <td>-532687.0</td>\n",
       "      <td>2.2</td>\n",
       "      <td>28</td>\n",
       "      <td>0.35</td>\n",
       "      <td>0.1770</td>\n",
       "    </tr>\n",
       "    <tr>\n",
       "      <th>2</th>\n",
       "      <td>United States</td>\n",
       "      <td>331341050</td>\n",
       "      <td>0.0059</td>\n",
       "      <td>1937734.0</td>\n",
       "      <td>36.0</td>\n",
       "      <td>9147420.0</td>\n",
       "      <td>954806.0</td>\n",
       "      <td>1.8</td>\n",
       "      <td>38</td>\n",
       "      <td>0.83</td>\n",
       "      <td>0.0425</td>\n",
       "    </tr>\n",
       "    <tr>\n",
       "      <th>3</th>\n",
       "      <td>Indonesia</td>\n",
       "      <td>274021604</td>\n",
       "      <td>0.0107</td>\n",
       "      <td>2898047.0</td>\n",
       "      <td>151.0</td>\n",
       "      <td>1811570.0</td>\n",
       "      <td>-98955.0</td>\n",
       "      <td>2.3</td>\n",
       "      <td>30</td>\n",
       "      <td>0.56</td>\n",
       "      <td>0.0351</td>\n",
       "    </tr>\n",
       "    <tr>\n",
       "      <th>4</th>\n",
       "      <td>Pakistan</td>\n",
       "      <td>221612785</td>\n",
       "      <td>0.0200</td>\n",
       "      <td>4327022.0</td>\n",
       "      <td>287.0</td>\n",
       "      <td>770880.0</td>\n",
       "      <td>-233379.0</td>\n",
       "      <td>3.6</td>\n",
       "      <td>23</td>\n",
       "      <td>0.35</td>\n",
       "      <td>0.0283</td>\n",
       "    </tr>\n",
       "  </tbody>\n",
       "</table>\n",
       "</div>"
      ],
      "text/plain": [
       "         Country  Population  Yearly Change  Net Change  Density (P/KmÂ²)  \\\n",
       "0          China  1440297825         0.0039   5540090.0             153.0   \n",
       "1          India  1382345085         0.0099  13586631.0             464.0   \n",
       "2  United States   331341050         0.0059   1937734.0              36.0   \n",
       "3      Indonesia   274021604         0.0107   2898047.0             151.0   \n",
       "4       Pakistan   221612785         0.0200   4327022.0             287.0   \n",
       "\n",
       "   Land Area (KmÂ²)  Migrants (net) Fert. Rate Med. Age Urban Pop %  \\\n",
       "0         9388211.0       -348399.0        1.7       38        0.61   \n",
       "1         2973190.0       -532687.0        2.2       28        0.35   \n",
       "2         9147420.0        954806.0        1.8       38        0.83   \n",
       "3         1811570.0        -98955.0        2.3       30        0.56   \n",
       "4          770880.0       -233379.0        3.6       23        0.35   \n",
       "\n",
       "   World Share  \n",
       "0       0.1847  \n",
       "1       0.1770  \n",
       "2       0.0425  \n",
       "3       0.0351  \n",
       "4       0.0283  "
      ]
     },
     "execution_count": 16,
     "metadata": {},
     "output_type": "execute_result"
    }
   ],
   "source": [
    "country_pop = pd.read_excel('./data/country_population_2020.xlsx')\n",
    "country_pop.head()"
   ]
  },
  {
   "cell_type": "code",
   "execution_count": 17,
   "id": "cdcfe007",
   "metadata": {},
   "outputs": [
    {
     "data": {
      "text/plain": [
       "array(['Curaçao', 'Kyrgyz Republic', 'Faroe Islands', 'Kosovo',\n",
       "       'St. Kitts and Nevis', 'Chinese Taipei', 'Tahiti',\n",
       "       'St. Vincent and the Grenadines', 'St. Lucia', 'Macau',\n",
       "       'São Tomé and Príncipe', 'Turks and Caicos Islands',\n",
       "       'US Virgin Islands', 'Curacao', 'Cape Verde Islands',\n",
       "       'Sao Tome e Principe', 'FYR Macedonia', 'Swaziland',\n",
       "       'St. Vincent / Grenadines', 'São Tomé e Príncipe',\n",
       "       'Netherlands Antilles', 'Serbia and Montenegro', 'Yugoslavia',\n",
       "       'Zaire', 'Czechoslovakia'], dtype=object)"
      ]
     },
     "execution_count": 17,
     "metadata": {},
     "output_type": "execute_result"
    }
   ],
   "source": [
    "master_df_flag_pop = master_df_flag.merge(country_pop, how = 'left', left_on='country', right_on='Country')\n",
    "\n",
    "# Drop extra Country column\n",
    "master_df_flag_pop.drop(columns=['Country'], inplace=True)\n",
    "\n",
    "# List of countries without flag image\n",
    "master_df_flag_pop[master_df_flag_pop['Population'].isnull()]['country'].unique()"
   ]
  },
  {
   "cell_type": "code",
   "execution_count": 18,
   "id": "40fd5ef6",
   "metadata": {},
   "outputs": [],
   "source": [
    "# Create log population\n",
    "master_df_flag_pop['population_natural_log'] = np.log(master_df_flag_pop['Population'])"
   ]
  },
  {
   "cell_type": "code",
   "execution_count": 23,
   "id": "b0046f02",
   "metadata": {},
   "outputs": [],
   "source": [
    "# Work on most recent dataset\n",
    "latest_date = master_df_flag_pop.iloc[0]['date']\n",
    "master_df_flag_pop_latest = master_df_flag_pop[master_df_flag_pop['date'] == latest_date]"
   ]
  },
  {
   "cell_type": "code",
   "execution_count": 24,
   "id": "d1ddf763",
   "metadata": {},
   "outputs": [
    {
     "data": {
      "text/plain": [
       "<AxesSubplot:xlabel='population_natural_log', ylabel='points'>"
      ]
     },
     "execution_count": 24,
     "metadata": {},
     "output_type": "execute_result"
    },
    {
     "data": {
      "image/png": "[encoded data removed]",
      "text/plain": [
       "<Figure size 432x288 with 1 Axes>"
      ]
     },
     "metadata": {
      "needs_background": "light"
     },
     "output_type": "display_data"
    }
   ],
   "source": [
    "sns.scatterplot(data=master_df_flag_pop_latest, x=\"population_natural_log\", y=\"points\")"
   ]
  },
  {
   "cell_type": "code",
   "execution_count": null,
   "id": "4a355ace",
   "metadata": {},
   "outputs": [],
   "source": [
    "# Create a new metric of points / natural log value (to see which country delivers the best out of their population)\n",
    "# Also do a scatter plot based against % urban"
   ]
  }
 ],
 "metadata": {
  "kernelspec": {
   "display_name": "Python 3",
   "language": "python",
   "name": "python3"
  },
  "language_info": {
   "codemirror_mode": {
    "name": "ipython",
    "version": 3
   },
   "file_extension": ".py",
   "mimetype": "text/x-python",
   "name": "python",
   "nbconvert_exporter": "python",
   "pygments_lexer": "ipython3",
   "version": "3.8.3"
  }
 },
 "nbformat": 4,
 "nbformat_minor": 5
}
